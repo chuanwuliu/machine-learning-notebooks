{
 "cells": [
  {
   "cell_type": "markdown",
   "metadata": {},
   "source": [
    "# Computational Models"
   ]
  },
  {
   "cell_type": "markdown",
   "metadata": {},
   "source": [
    "$$y = f_\\theta(x)$$\n",
    "\n",
    "Where\n",
    "\n",
    "$ x = [x_0, x_1, x_2, ...]$ are the input variables (features, independent variables)\n",
    "\n",
    "$\\theta = [\\theta_0, \\theta_1, \\theta_2, ...]$ are the parameters\n",
    "\n",
    "$y$ is the dependent variable or prediction.\n",
    "\n",
    "Given the format of the mapping function $f$, Machine Learning is to find out the parameter set $\\theta$"
   ]
  },
  {
   "cell_type": "markdown",
   "metadata": {},
   "source": [
    "# Linear Regression\n",
    "\n",
    "\\begin{equation}\n",
    "y = \\sum_{i=0}^n \\theta_i x_i = \\theta_0 x_0 + \\theta_1 x_1 + \\theta_2 x_2\\ +\\  ... +\\ \\theta_n x_n\n",
    "\\end{equation}\n",
    "For convention, we define $x_0 = 1$ as the intercept term.\n",
    "Therefore $x_1, x_2, ... x_n$ are the features and $n$ is the number of features.\n",
    "\n",
    "A simpler notation\n",
    "$$\n",
    "y = \\theta^T x\n",
    "$$\n",
    "where\n",
    "\n",
    "$\\theta^T = \n",
    "\\begin{bmatrix}\n",
    "\\theta_0 & \\theta_1 & \\theta_2 & ... & \\theta_n\n",
    "\\end{bmatrix}\n",
    "$,\n",
    "and\n",
    "$\n",
    "x = \n",
    "\\begin{bmatrix}\n",
    "x_0\\\\ x_1\\\\ x_2\\\\ ... \\\\x_n\n",
    "\\end{bmatrix}\n",
    "$"
   ]
  },
  {
   "cell_type": "markdown",
   "metadata": {},
   "source": [
    "# Car Price Prediction Model"
   ]
  },
  {
   "cell_type": "code",
   "execution_count": 1,
   "metadata": {},
   "outputs": [
    {
     "data": {
      "text/plain": [
       "(301, 9)"
      ]
     },
     "execution_count": 1,
     "metadata": {},
     "output_type": "execute_result"
    }
   ],
   "source": [
    "## Loading dataset with pandas\n",
    "import pandas as pd\n",
    "file = \"./data/car_data.csv\"\n",
    "df = pd.read_csv(file)\n",
    "df.shape"
   ]
  },
  {
   "cell_type": "code",
   "execution_count": 2,
   "metadata": {},
   "outputs": [
    {
     "data": {
      "text/html": [
       "<div>\n",
       "<style scoped>\n",
       "    .dataframe tbody tr th:only-of-type {\n",
       "        vertical-align: middle;\n",
       "    }\n",
       "\n",
       "    .dataframe tbody tr th {\n",
       "        vertical-align: top;\n",
       "    }\n",
       "\n",
       "    .dataframe thead th {\n",
       "        text-align: right;\n",
       "    }\n",
       "</style>\n",
       "<table border=\"1\" class=\"dataframe\">\n",
       "  <thead>\n",
       "    <tr style=\"text-align: right;\">\n",
       "      <th></th>\n",
       "      <th>Car_Name</th>\n",
       "      <th>Year</th>\n",
       "      <th>Selling_Price</th>\n",
       "      <th>Present_Price</th>\n",
       "      <th>Kms_Driven</th>\n",
       "      <th>Fuel_Type</th>\n",
       "      <th>Seller_Type</th>\n",
       "      <th>Transmission</th>\n",
       "      <th>Owner</th>\n",
       "    </tr>\n",
       "  </thead>\n",
       "  <tbody>\n",
       "    <tr>\n",
       "      <th>0</th>\n",
       "      <td>ritz</td>\n",
       "      <td>2014</td>\n",
       "      <td>3.35</td>\n",
       "      <td>5.59</td>\n",
       "      <td>27000</td>\n",
       "      <td>Petrol</td>\n",
       "      <td>Dealer</td>\n",
       "      <td>Manual</td>\n",
       "      <td>0</td>\n",
       "    </tr>\n",
       "    <tr>\n",
       "      <th>1</th>\n",
       "      <td>sx4</td>\n",
       "      <td>2013</td>\n",
       "      <td>4.75</td>\n",
       "      <td>9.54</td>\n",
       "      <td>43000</td>\n",
       "      <td>Diesel</td>\n",
       "      <td>Dealer</td>\n",
       "      <td>Manual</td>\n",
       "      <td>0</td>\n",
       "    </tr>\n",
       "    <tr>\n",
       "      <th>2</th>\n",
       "      <td>ciaz</td>\n",
       "      <td>2017</td>\n",
       "      <td>7.25</td>\n",
       "      <td>9.85</td>\n",
       "      <td>6900</td>\n",
       "      <td>Petrol</td>\n",
       "      <td>Dealer</td>\n",
       "      <td>Manual</td>\n",
       "      <td>0</td>\n",
       "    </tr>\n",
       "    <tr>\n",
       "      <th>3</th>\n",
       "      <td>wagon r</td>\n",
       "      <td>2011</td>\n",
       "      <td>2.85</td>\n",
       "      <td>4.15</td>\n",
       "      <td>5200</td>\n",
       "      <td>Petrol</td>\n",
       "      <td>Dealer</td>\n",
       "      <td>Manual</td>\n",
       "      <td>0</td>\n",
       "    </tr>\n",
       "    <tr>\n",
       "      <th>4</th>\n",
       "      <td>swift</td>\n",
       "      <td>2014</td>\n",
       "      <td>4.60</td>\n",
       "      <td>6.87</td>\n",
       "      <td>42450</td>\n",
       "      <td>Diesel</td>\n",
       "      <td>Dealer</td>\n",
       "      <td>Manual</td>\n",
       "      <td>0</td>\n",
       "    </tr>\n",
       "    <tr>\n",
       "      <th>5</th>\n",
       "      <td>vitara brezza</td>\n",
       "      <td>2018</td>\n",
       "      <td>9.25</td>\n",
       "      <td>9.83</td>\n",
       "      <td>2071</td>\n",
       "      <td>Diesel</td>\n",
       "      <td>Dealer</td>\n",
       "      <td>Manual</td>\n",
       "      <td>0</td>\n",
       "    </tr>\n",
       "    <tr>\n",
       "      <th>6</th>\n",
       "      <td>ciaz</td>\n",
       "      <td>2015</td>\n",
       "      <td>6.75</td>\n",
       "      <td>8.12</td>\n",
       "      <td>18796</td>\n",
       "      <td>Petrol</td>\n",
       "      <td>Dealer</td>\n",
       "      <td>Manual</td>\n",
       "      <td>0</td>\n",
       "    </tr>\n",
       "    <tr>\n",
       "      <th>7</th>\n",
       "      <td>s cross</td>\n",
       "      <td>2015</td>\n",
       "      <td>6.50</td>\n",
       "      <td>8.61</td>\n",
       "      <td>33429</td>\n",
       "      <td>Diesel</td>\n",
       "      <td>Dealer</td>\n",
       "      <td>Manual</td>\n",
       "      <td>0</td>\n",
       "    </tr>\n",
       "    <tr>\n",
       "      <th>8</th>\n",
       "      <td>ciaz</td>\n",
       "      <td>2016</td>\n",
       "      <td>8.75</td>\n",
       "      <td>8.89</td>\n",
       "      <td>20273</td>\n",
       "      <td>Diesel</td>\n",
       "      <td>Dealer</td>\n",
       "      <td>Manual</td>\n",
       "      <td>0</td>\n",
       "    </tr>\n",
       "    <tr>\n",
       "      <th>9</th>\n",
       "      <td>ciaz</td>\n",
       "      <td>2015</td>\n",
       "      <td>7.45</td>\n",
       "      <td>8.92</td>\n",
       "      <td>42367</td>\n",
       "      <td>Diesel</td>\n",
       "      <td>Dealer</td>\n",
       "      <td>Manual</td>\n",
       "      <td>0</td>\n",
       "    </tr>\n",
       "    <tr>\n",
       "      <th>10</th>\n",
       "      <td>alto 800</td>\n",
       "      <td>2017</td>\n",
       "      <td>2.85</td>\n",
       "      <td>3.60</td>\n",
       "      <td>2135</td>\n",
       "      <td>Petrol</td>\n",
       "      <td>Dealer</td>\n",
       "      <td>Manual</td>\n",
       "      <td>0</td>\n",
       "    </tr>\n",
       "    <tr>\n",
       "      <th>11</th>\n",
       "      <td>ciaz</td>\n",
       "      <td>2015</td>\n",
       "      <td>6.85</td>\n",
       "      <td>10.38</td>\n",
       "      <td>51000</td>\n",
       "      <td>Diesel</td>\n",
       "      <td>Dealer</td>\n",
       "      <td>Manual</td>\n",
       "      <td>0</td>\n",
       "    </tr>\n",
       "    <tr>\n",
       "      <th>12</th>\n",
       "      <td>ciaz</td>\n",
       "      <td>2015</td>\n",
       "      <td>7.50</td>\n",
       "      <td>9.94</td>\n",
       "      <td>15000</td>\n",
       "      <td>Petrol</td>\n",
       "      <td>Dealer</td>\n",
       "      <td>Automatic</td>\n",
       "      <td>0</td>\n",
       "    </tr>\n",
       "    <tr>\n",
       "      <th>13</th>\n",
       "      <td>ertiga</td>\n",
       "      <td>2015</td>\n",
       "      <td>6.10</td>\n",
       "      <td>7.71</td>\n",
       "      <td>26000</td>\n",
       "      <td>Petrol</td>\n",
       "      <td>Dealer</td>\n",
       "      <td>Manual</td>\n",
       "      <td>0</td>\n",
       "    </tr>\n",
       "    <tr>\n",
       "      <th>14</th>\n",
       "      <td>dzire</td>\n",
       "      <td>2009</td>\n",
       "      <td>2.25</td>\n",
       "      <td>7.21</td>\n",
       "      <td>77427</td>\n",
       "      <td>Petrol</td>\n",
       "      <td>Dealer</td>\n",
       "      <td>Manual</td>\n",
       "      <td>0</td>\n",
       "    </tr>\n",
       "    <tr>\n",
       "      <th>15</th>\n",
       "      <td>ertiga</td>\n",
       "      <td>2016</td>\n",
       "      <td>7.75</td>\n",
       "      <td>10.79</td>\n",
       "      <td>43000</td>\n",
       "      <td>Diesel</td>\n",
       "      <td>Dealer</td>\n",
       "      <td>Manual</td>\n",
       "      <td>0</td>\n",
       "    </tr>\n",
       "    <tr>\n",
       "      <th>16</th>\n",
       "      <td>ertiga</td>\n",
       "      <td>2015</td>\n",
       "      <td>7.25</td>\n",
       "      <td>10.79</td>\n",
       "      <td>41678</td>\n",
       "      <td>Diesel</td>\n",
       "      <td>Dealer</td>\n",
       "      <td>Manual</td>\n",
       "      <td>0</td>\n",
       "    </tr>\n",
       "    <tr>\n",
       "      <th>17</th>\n",
       "      <td>ertiga</td>\n",
       "      <td>2016</td>\n",
       "      <td>7.75</td>\n",
       "      <td>10.79</td>\n",
       "      <td>43000</td>\n",
       "      <td>Diesel</td>\n",
       "      <td>Dealer</td>\n",
       "      <td>Manual</td>\n",
       "      <td>0</td>\n",
       "    </tr>\n",
       "    <tr>\n",
       "      <th>18</th>\n",
       "      <td>wagon r</td>\n",
       "      <td>2015</td>\n",
       "      <td>3.25</td>\n",
       "      <td>5.09</td>\n",
       "      <td>35500</td>\n",
       "      <td>CNG</td>\n",
       "      <td>Dealer</td>\n",
       "      <td>Manual</td>\n",
       "      <td>0</td>\n",
       "    </tr>\n",
       "    <tr>\n",
       "      <th>19</th>\n",
       "      <td>sx4</td>\n",
       "      <td>2010</td>\n",
       "      <td>2.65</td>\n",
       "      <td>7.98</td>\n",
       "      <td>41442</td>\n",
       "      <td>Petrol</td>\n",
       "      <td>Dealer</td>\n",
       "      <td>Manual</td>\n",
       "      <td>0</td>\n",
       "    </tr>\n",
       "  </tbody>\n",
       "</table>\n",
       "</div>"
      ],
      "text/plain": [
       "         Car_Name  Year  Selling_Price  Present_Price  Kms_Driven Fuel_Type  \\\n",
       "0            ritz  2014           3.35           5.59       27000    Petrol   \n",
       "1             sx4  2013           4.75           9.54       43000    Diesel   \n",
       "2            ciaz  2017           7.25           9.85        6900    Petrol   \n",
       "3         wagon r  2011           2.85           4.15        5200    Petrol   \n",
       "4           swift  2014           4.60           6.87       42450    Diesel   \n",
       "5   vitara brezza  2018           9.25           9.83        2071    Diesel   \n",
       "6            ciaz  2015           6.75           8.12       18796    Petrol   \n",
       "7         s cross  2015           6.50           8.61       33429    Diesel   \n",
       "8            ciaz  2016           8.75           8.89       20273    Diesel   \n",
       "9            ciaz  2015           7.45           8.92       42367    Diesel   \n",
       "10       alto 800  2017           2.85           3.60        2135    Petrol   \n",
       "11           ciaz  2015           6.85          10.38       51000    Diesel   \n",
       "12           ciaz  2015           7.50           9.94       15000    Petrol   \n",
       "13         ertiga  2015           6.10           7.71       26000    Petrol   \n",
       "14          dzire  2009           2.25           7.21       77427    Petrol   \n",
       "15         ertiga  2016           7.75          10.79       43000    Diesel   \n",
       "16         ertiga  2015           7.25          10.79       41678    Diesel   \n",
       "17         ertiga  2016           7.75          10.79       43000    Diesel   \n",
       "18        wagon r  2015           3.25           5.09       35500       CNG   \n",
       "19            sx4  2010           2.65           7.98       41442    Petrol   \n",
       "\n",
       "   Seller_Type Transmission  Owner  \n",
       "0       Dealer       Manual      0  \n",
       "1       Dealer       Manual      0  \n",
       "2       Dealer       Manual      0  \n",
       "3       Dealer       Manual      0  \n",
       "4       Dealer       Manual      0  \n",
       "5       Dealer       Manual      0  \n",
       "6       Dealer       Manual      0  \n",
       "7       Dealer       Manual      0  \n",
       "8       Dealer       Manual      0  \n",
       "9       Dealer       Manual      0  \n",
       "10      Dealer       Manual      0  \n",
       "11      Dealer       Manual      0  \n",
       "12      Dealer    Automatic      0  \n",
       "13      Dealer       Manual      0  \n",
       "14      Dealer       Manual      0  \n",
       "15      Dealer       Manual      0  \n",
       "16      Dealer       Manual      0  \n",
       "17      Dealer       Manual      0  \n",
       "18      Dealer       Manual      0  \n",
       "19      Dealer       Manual      0  "
      ]
     },
     "execution_count": 2,
     "metadata": {},
     "output_type": "execute_result"
    }
   ],
   "source": [
    "df.head(n=20)"
   ]
  },
  {
   "cell_type": "markdown",
   "metadata": {},
   "source": [
    "# Feature Selection and Feature Extraction"
   ]
  },
  {
   "cell_type": "code",
   "execution_count": 3,
   "metadata": {},
   "outputs": [
    {
     "data": {
      "text/html": [
       "<div>\n",
       "<style scoped>\n",
       "    .dataframe tbody tr th:only-of-type {\n",
       "        vertical-align: middle;\n",
       "    }\n",
       "\n",
       "    .dataframe tbody tr th {\n",
       "        vertical-align: top;\n",
       "    }\n",
       "\n",
       "    .dataframe thead th {\n",
       "        text-align: right;\n",
       "    }\n",
       "</style>\n",
       "<table border=\"1\" class=\"dataframe\">\n",
       "  <thead>\n",
       "    <tr style=\"text-align: right;\">\n",
       "      <th></th>\n",
       "      <th>Year</th>\n",
       "      <th>Present_Price</th>\n",
       "      <th>Kms_Driven</th>\n",
       "      <th>Fuel_Type</th>\n",
       "      <th>Seller_Type</th>\n",
       "      <th>Transmission</th>\n",
       "    </tr>\n",
       "  </thead>\n",
       "  <tbody>\n",
       "    <tr>\n",
       "      <th>0</th>\n",
       "      <td>2014</td>\n",
       "      <td>5.59</td>\n",
       "      <td>27000</td>\n",
       "      <td>Petrol</td>\n",
       "      <td>Dealer</td>\n",
       "      <td>Manual</td>\n",
       "    </tr>\n",
       "    <tr>\n",
       "      <th>1</th>\n",
       "      <td>2013</td>\n",
       "      <td>9.54</td>\n",
       "      <td>43000</td>\n",
       "      <td>Diesel</td>\n",
       "      <td>Dealer</td>\n",
       "      <td>Manual</td>\n",
       "    </tr>\n",
       "    <tr>\n",
       "      <th>2</th>\n",
       "      <td>2017</td>\n",
       "      <td>9.85</td>\n",
       "      <td>6900</td>\n",
       "      <td>Petrol</td>\n",
       "      <td>Dealer</td>\n",
       "      <td>Manual</td>\n",
       "    </tr>\n",
       "    <tr>\n",
       "      <th>3</th>\n",
       "      <td>2011</td>\n",
       "      <td>4.15</td>\n",
       "      <td>5200</td>\n",
       "      <td>Petrol</td>\n",
       "      <td>Dealer</td>\n",
       "      <td>Manual</td>\n",
       "    </tr>\n",
       "    <tr>\n",
       "      <th>4</th>\n",
       "      <td>2014</td>\n",
       "      <td>6.87</td>\n",
       "      <td>42450</td>\n",
       "      <td>Diesel</td>\n",
       "      <td>Dealer</td>\n",
       "      <td>Manual</td>\n",
       "    </tr>\n",
       "    <tr>\n",
       "      <th>5</th>\n",
       "      <td>2018</td>\n",
       "      <td>9.83</td>\n",
       "      <td>2071</td>\n",
       "      <td>Diesel</td>\n",
       "      <td>Dealer</td>\n",
       "      <td>Manual</td>\n",
       "    </tr>\n",
       "    <tr>\n",
       "      <th>6</th>\n",
       "      <td>2015</td>\n",
       "      <td>8.12</td>\n",
       "      <td>18796</td>\n",
       "      <td>Petrol</td>\n",
       "      <td>Dealer</td>\n",
       "      <td>Manual</td>\n",
       "    </tr>\n",
       "    <tr>\n",
       "      <th>7</th>\n",
       "      <td>2015</td>\n",
       "      <td>8.61</td>\n",
       "      <td>33429</td>\n",
       "      <td>Diesel</td>\n",
       "      <td>Dealer</td>\n",
       "      <td>Manual</td>\n",
       "    </tr>\n",
       "    <tr>\n",
       "      <th>8</th>\n",
       "      <td>2016</td>\n",
       "      <td>8.89</td>\n",
       "      <td>20273</td>\n",
       "      <td>Diesel</td>\n",
       "      <td>Dealer</td>\n",
       "      <td>Manual</td>\n",
       "    </tr>\n",
       "    <tr>\n",
       "      <th>9</th>\n",
       "      <td>2015</td>\n",
       "      <td>8.92</td>\n",
       "      <td>42367</td>\n",
       "      <td>Diesel</td>\n",
       "      <td>Dealer</td>\n",
       "      <td>Manual</td>\n",
       "    </tr>\n",
       "  </tbody>\n",
       "</table>\n",
       "</div>"
      ],
      "text/plain": [
       "   Year  Present_Price  Kms_Driven Fuel_Type Seller_Type Transmission\n",
       "0  2014           5.59       27000    Petrol      Dealer       Manual\n",
       "1  2013           9.54       43000    Diesel      Dealer       Manual\n",
       "2  2017           9.85        6900    Petrol      Dealer       Manual\n",
       "3  2011           4.15        5200    Petrol      Dealer       Manual\n",
       "4  2014           6.87       42450    Diesel      Dealer       Manual\n",
       "5  2018           9.83        2071    Diesel      Dealer       Manual\n",
       "6  2015           8.12       18796    Petrol      Dealer       Manual\n",
       "7  2015           8.61       33429    Diesel      Dealer       Manual\n",
       "8  2016           8.89       20273    Diesel      Dealer       Manual\n",
       "9  2015           8.92       42367    Diesel      Dealer       Manual"
      ]
     },
     "execution_count": 3,
     "metadata": {},
     "output_type": "execute_result"
    }
   ],
   "source": [
    "# Feature Selection\n",
    "df_X = df[['Year', 'Present_Price', 'Kms_Driven', 'Fuel_Type', 'Seller_Type', 'Transmission']]\n",
    "df_X.head(n=10)"
   ]
  },
  {
   "cell_type": "code",
   "execution_count": 4,
   "metadata": {},
   "outputs": [
    {
     "data": {
      "text/plain": [
       "array([3.35, 4.75, 7.25, 2.85, 4.6 , 9.25, 6.75, 6.5 , 8.75, 7.45, 2.85,\n",
       "       6.85, 7.5 , 6.1 , 2.25, 7.75, 7.25, 7.75, 3.25, 2.65])"
      ]
     },
     "execution_count": 4,
     "metadata": {},
     "output_type": "execute_result"
    }
   ],
   "source": [
    "y = df['Selling_Price'].values\n",
    "# y = df['selling_price'].values\n",
    "# y = y.reshape(-1, 1)\n",
    "y[:20]"
   ]
  },
  {
   "cell_type": "markdown",
   "metadata": {},
   "source": [
    "# Data Preprocessing"
   ]
  },
  {
   "cell_type": "markdown",
   "metadata": {},
   "source": [
    "## Data Cleaning"
   ]
  },
  {
   "cell_type": "markdown",
   "metadata": {},
   "source": [
    "## Encoding Categorical Data"
   ]
  },
  {
   "cell_type": "code",
   "execution_count": 5,
   "metadata": {},
   "outputs": [
    {
     "data": {
      "text/plain": [
       "array(['Petrol', 'Diesel', 'CNG'], dtype=object)"
      ]
     },
     "execution_count": 5,
     "metadata": {},
     "output_type": "execute_result"
    }
   ],
   "source": [
    "df_X['Fuel_Type'].unique()"
   ]
  },
  {
   "cell_type": "code",
   "execution_count": 6,
   "metadata": {},
   "outputs": [
    {
     "data": {
      "text/plain": [
       "(301, 10)"
      ]
     },
     "execution_count": 6,
     "metadata": {},
     "output_type": "execute_result"
    }
   ],
   "source": [
    "from sklearn.compose import ColumnTransformer\n",
    "from sklearn.preprocessing import OneHotEncoder\n",
    "#ct = ColumnTransformer(transformers=[('encoder', OneHotEncoder(), ['fuel', 'transmission'])], remainder='passthrough')\n",
    "ct = ColumnTransformer(transformers=[('encoder', OneHotEncoder(), ['Fuel_Type', 'Seller_Type', 'Transmission'])], remainder='passthrough')\n",
    "X = ct.fit_transform(df_X)\n",
    "X.shape"
   ]
  },
  {
   "cell_type": "code",
   "execution_count": 7,
   "metadata": {},
   "outputs": [
    {
     "data": {
      "text/plain": [
       "10    Petrol\n",
       "11    Diesel\n",
       "12    Petrol\n",
       "13    Petrol\n",
       "14    Petrol\n",
       "15    Diesel\n",
       "16    Diesel\n",
       "17    Diesel\n",
       "18       CNG\n",
       "19    Petrol\n",
       "Name: Fuel_Type, dtype: object"
      ]
     },
     "execution_count": 7,
     "metadata": {},
     "output_type": "execute_result"
    }
   ],
   "source": [
    "df_X.loc[10:19, 'Fuel_Type']"
   ]
  },
  {
   "cell_type": "code",
   "execution_count": 8,
   "metadata": {},
   "outputs": [
    {
     "data": {
      "text/plain": [
       "array([[0., 0., 1.],\n",
       "       [0., 1., 0.],\n",
       "       [0., 0., 1.],\n",
       "       [0., 0., 1.],\n",
       "       [0., 0., 1.],\n",
       "       [0., 1., 0.],\n",
       "       [0., 1., 0.],\n",
       "       [0., 1., 0.],\n",
       "       [1., 0., 0.],\n",
       "       [0., 0., 1.]])"
      ]
     },
     "execution_count": 8,
     "metadata": {},
     "output_type": "execute_result"
    }
   ],
   "source": [
    "# The fuel categories are sorted as CNG, Diesel and Petrol\n",
    "X[10:20, :3]"
   ]
  },
  {
   "cell_type": "code",
   "execution_count": 9,
   "metadata": {},
   "outputs": [
    {
     "data": {
      "text/plain": [
       "10       Manual\n",
       "11       Manual\n",
       "12    Automatic\n",
       "13       Manual\n",
       "14       Manual\n",
       "15       Manual\n",
       "16       Manual\n",
       "17       Manual\n",
       "18       Manual\n",
       "19       Manual\n",
       "Name: Transmission, dtype: object"
      ]
     },
     "execution_count": 9,
     "metadata": {},
     "output_type": "execute_result"
    }
   ],
   "source": [
    "df_X.loc[10:19, 'Transmission']"
   ]
  },
  {
   "cell_type": "code",
   "execution_count": 10,
   "metadata": {},
   "outputs": [
    {
     "data": {
      "text/plain": [
       "array([[0., 1.],\n",
       "       [0., 1.],\n",
       "       [1., 0.],\n",
       "       [0., 1.],\n",
       "       [0., 1.],\n",
       "       [0., 1.],\n",
       "       [0., 1.],\n",
       "       [0., 1.],\n",
       "       [0., 1.]])"
      ]
     },
     "execution_count": 10,
     "metadata": {},
     "output_type": "execute_result"
    }
   ],
   "source": [
    "# You can also ignore one dummy variable or use LableEncoder\n",
    "X[10:19, 5:7]"
   ]
  },
  {
   "cell_type": "markdown",
   "metadata": {},
   "source": [
    "## Split the dataset into the training set and test set\n",
    "\n",
    "Remember to shuffle the data set before the splitting"
   ]
  },
  {
   "cell_type": "code",
   "execution_count": 11,
   "metadata": {},
   "outputs": [
    {
     "data": {
      "text/plain": [
       "((240, 10), (61, 10), (240,), (61,))"
      ]
     },
     "execution_count": 11,
     "metadata": {},
     "output_type": "execute_result"
    }
   ],
   "source": [
    "from sklearn.model_selection import train_test_split\n",
    "X_train, X_test, y_train, y_test = train_test_split(X, y, test_size=0.2, random_state=42, shuffle=True)\n",
    "X_train.shape, X_test.shape, y_train.shape, y_test.shape"
   ]
  },
  {
   "cell_type": "markdown",
   "metadata": {},
   "source": [
    "## Data Normalization\n",
    "Note:\n",
    " * No need to scale the dummy variables generated by one-hot encoding\n",
    " * Data Normalization should to be done after the train-test splitting\n",
    " * The scaler applied to training set will also be used to scale the test set."
   ]
  },
  {
   "cell_type": "code",
   "execution_count": 12,
   "metadata": {},
   "outputs": [
    {
     "data": {
      "text/plain": [
       "array([[2.0080e+03, 7.5000e-01, 2.6000e+04],\n",
       "       [2.0170e+03, 9.5000e-01, 3.5000e+03],\n",
       "       [2.0080e+03, 7.8700e-01, 5.0000e+04],\n",
       "       [2.0150e+03, 6.8000e+00, 3.6000e+04],\n",
       "       [2.0160e+03, 1.5000e+00, 8.7000e+03],\n",
       "       [2.0140e+03, 3.5960e+01, 4.1000e+04],\n",
       "       [2.0150e+03, 3.0610e+01, 4.0000e+04],\n",
       "       [2.0150e+03, 8.1200e+00, 1.8796e+04],\n",
       "       [2.0110e+03, 7.8700e-01, 7.5000e+04],\n",
       "       [2.0120e+03, 5.9800e+00, 5.1439e+04]])"
      ]
     },
     "execution_count": 12,
     "metadata": {},
     "output_type": "execute_result"
    }
   ],
   "source": [
    "X_train[:10, 7:]"
   ]
  },
  {
   "cell_type": "code",
   "execution_count": 13,
   "metadata": {},
   "outputs": [],
   "source": [
    "# Note: the scaler applied to training set will also be used to scale the test set.\n",
    "from sklearn.preprocessing import StandardScaler\n",
    "X_scaler = StandardScaler()\n",
    "X_scaler.fit(X_train[:, 7:])\n",
    "X_train[:, 7:] = X_scaler.transform(X_train[:, 7:])\n",
    "X_test[:, 7:] = X_scaler.transform(X_test[:, 7:])"
   ]
  },
  {
   "cell_type": "code",
   "execution_count": 14,
   "metadata": {},
   "outputs": [
    {
     "data": {
      "text/plain": [
       "array([[-1.96986094, -0.75359579, -0.27555466],\n",
       "       [ 1.15644297, -0.73130669, -0.81428242],\n",
       "       [-1.96986094, -0.7494723 ,  0.29908829],\n",
       "       [ 0.46170877, -0.07935058, -0.0361201 ],\n",
       "       [ 0.80907587, -0.67001167, -0.68977645],\n",
       "       [ 0.11434167,  3.17039986,  0.08359718],\n",
       "       [ 0.46170877,  2.5741665 ,  0.05965372],\n",
       "       [ 0.46170877,  0.06775746, -0.44804332],\n",
       "       [-0.92775963, -0.7494723 ,  0.89767469],\n",
       "       [-0.58039253, -0.17073588,  0.33354292]])"
      ]
     },
     "execution_count": 14,
     "metadata": {},
     "output_type": "execute_result"
    }
   ],
   "source": [
    "X_train[:10, 7:]"
   ]
  },
  {
   "cell_type": "markdown",
   "metadata": {},
   "source": [
    "# Train the model\n",
    "\n",
    "Linear regression is used here"
   ]
  },
  {
   "cell_type": "code",
   "execution_count": 15,
   "metadata": {},
   "outputs": [
    {
     "data": {
      "text/plain": [
       "LinearRegression(copy_X=True, fit_intercept=True, n_jobs=None,\n",
       "         normalize=False)"
      ]
     },
     "execution_count": 15,
     "metadata": {},
     "output_type": "execute_result"
    }
   ],
   "source": [
    "from sklearn.linear_model import LinearRegression\n",
    "model = LinearRegression()\n",
    "model.fit(X_train, y_train)"
   ]
  },
  {
   "cell_type": "markdown",
   "metadata": {},
   "source": [
    "# Performance Evaluation"
   ]
  },
  {
   "cell_type": "code",
   "execution_count": 16,
   "metadata": {},
   "outputs": [
    {
     "data": {
      "text/plain": [
       "array([ 2.88182954,  8.17528022,  6.43409771, -0.63352606,  9.02787139,\n",
       "        7.44545662,  1.28372036,  0.77213879,  1.32954546,  7.49944457,\n",
       "        9.18829964,  0.50190927,  8.34630916,  3.36423516,  6.89514616,\n",
       "        3.0225337 ,  0.38299267, 10.70982303,  1.73203983,  2.32226104])"
      ]
     },
     "execution_count": 16,
     "metadata": {},
     "output_type": "execute_result"
    }
   ],
   "source": [
    "y_pred = model.predict(X_test)\n",
    "y_pred[:20]"
   ]
  },
  {
   "cell_type": "code",
   "execution_count": 17,
   "metadata": {},
   "outputs": [
    {
     "data": {
      "text/plain": [
       "array([ 0.35, 10.11,  4.95,  0.15,  6.95,  7.45,  1.1 ,  0.5 ,  0.45,\n",
       "        6.  ,  9.25,  1.1 ,  7.5 ,  0.4 ,  6.15,  2.65,  0.95, 17.  ,\n",
       "        0.48,  1.7 ])"
      ]
     },
     "execution_count": 17,
     "metadata": {},
     "output_type": "execute_result"
    }
   ],
   "source": [
    "y_test[:20]"
   ]
  },
  {
   "cell_type": "code",
   "execution_count": 26,
   "metadata": {},
   "outputs": [
    {
     "data": {
      "image/png": "[encoded data removed]",
      "text/plain": [
       "<Figure size 1440x360 with 1 Axes>"
      ]
     },
     "metadata": {
      "needs_background": "light"
     },
     "output_type": "display_data"
    }
   ],
   "source": [
    "from matplotlib import pyplot as plt\n",
    "fig, ax = plt.subplots(figsize=(20, 5))\n",
    "ax.scatter(range(1, 21), y_pred[:20], label='Prediction')\n",
    "ax.scatter(range(1, 21), y_test[:20], label='Target')\n",
    "ax.set_xlabel('Data No.')\n",
    "ax.set_ylabel('Selling_Price')\n",
    "ax.set_xticks(range(1, 21))\n",
    "ax.grid(axis='x')\n",
    "ax.legend()\n",
    "plt.show()"
   ]
  },
  {
   "cell_type": "code",
   "execution_count": 19,
   "metadata": {},
   "outputs": [
    {
     "data": {
      "text/plain": [
       "[<matplotlib.lines.Line2D at 0x1a27537e80>]"
      ]
     },
     "execution_count": 19,
     "metadata": {},
     "output_type": "execute_result"
    },
    {
     "data": {
      "image/png": "[encoded data removed]",
      "text/plain": [
       "<Figure size 576x576 with 1 Axes>"
      ]
     },
     "metadata": {
      "needs_background": "light"
     },
     "output_type": "display_data"
    }
   ],
   "source": [
    "from matplotlib import pyplot as plt\n",
    "fig, ax = plt.subplots(figsize=(8, 8))\n",
    "ax.scatter(y_test[:50], y_pred[:50])\n",
    "ax.set_xlabel(\"Price Target\")\n",
    "ax.set_ylabel(\"Price Prediction\")\n",
    "ax.set_xlim(0, 12)\n",
    "ax.set_ylim(0, 12)\n",
    "ax.plot([0, 100], [0, 100], 'k--')"
   ]
  },
  {
   "cell_type": "code",
   "execution_count": 20,
   "metadata": {},
   "outputs": [
    {
     "data": {
      "text/plain": [
       "0.8541290953766715"
      ]
     },
     "execution_count": 20,
     "metadata": {},
     "output_type": "execute_result"
    }
   ],
   "source": [
    "from sklearn.metrics import r2_score\n",
    "r2_score(y_test, y_pred)"
   ]
  },
  {
   "cell_type": "markdown",
   "metadata": {},
   "source": [
    "# Analysis and Interpretation"
   ]
  },
  {
   "cell_type": "code",
   "execution_count": 21,
   "metadata": {},
   "outputs": [
    {
     "data": {
      "text/plain": [
       "array([-1.08038085,  1.45449316, -0.37411231,  0.62664488, -0.62664488,\n",
       "        0.80023694, -0.80023694,  1.06388228,  3.82968658, -0.25474113])"
      ]
     },
     "execution_count": 21,
     "metadata": {},
     "output_type": "execute_result"
    }
   ],
   "source": [
    "model.coef_"
   ]
  },
  {
   "cell_type": "code",
   "execution_count": 22,
   "metadata": {},
   "outputs": [
    {
     "data": {
      "text/html": [
       "<div>\n",
       "<style scoped>\n",
       "    .dataframe tbody tr th:only-of-type {\n",
       "        vertical-align: middle;\n",
       "    }\n",
       "\n",
       "    .dataframe tbody tr th {\n",
       "        vertical-align: top;\n",
       "    }\n",
       "\n",
       "    .dataframe thead th {\n",
       "        text-align: right;\n",
       "    }\n",
       "</style>\n",
       "<table border=\"1\" class=\"dataframe\">\n",
       "  <thead>\n",
       "    <tr style=\"text-align: right;\">\n",
       "      <th></th>\n",
       "      <th>0</th>\n",
       "    </tr>\n",
       "  </thead>\n",
       "  <tbody>\n",
       "    <tr>\n",
       "      <th>CNG</th>\n",
       "      <td>-1.080381</td>\n",
       "    </tr>\n",
       "    <tr>\n",
       "      <th>Diesel</th>\n",
       "      <td>1.454493</td>\n",
       "    </tr>\n",
       "    <tr>\n",
       "      <th>Petrol</th>\n",
       "      <td>-0.374112</td>\n",
       "    </tr>\n",
       "    <tr>\n",
       "      <th>Detaler</th>\n",
       "      <td>0.626645</td>\n",
       "    </tr>\n",
       "    <tr>\n",
       "      <th>Individual</th>\n",
       "      <td>-0.626645</td>\n",
       "    </tr>\n",
       "    <tr>\n",
       "      <th>Automatic</th>\n",
       "      <td>0.800237</td>\n",
       "    </tr>\n",
       "    <tr>\n",
       "      <th>Manual</th>\n",
       "      <td>-0.800237</td>\n",
       "    </tr>\n",
       "    <tr>\n",
       "      <th>Year</th>\n",
       "      <td>1.063882</td>\n",
       "    </tr>\n",
       "    <tr>\n",
       "      <th>Present_Price</th>\n",
       "      <td>3.829687</td>\n",
       "    </tr>\n",
       "    <tr>\n",
       "      <th>Kms_Driven</th>\n",
       "      <td>-0.254741</td>\n",
       "    </tr>\n",
       "  </tbody>\n",
       "</table>\n",
       "</div>"
      ],
      "text/plain": [
       "                      0\n",
       "CNG           -1.080381\n",
       "Diesel         1.454493\n",
       "Petrol        -0.374112\n",
       "Detaler        0.626645\n",
       "Individual    -0.626645\n",
       "Automatic      0.800237\n",
       "Manual        -0.800237\n",
       "Year           1.063882\n",
       "Present_Price  3.829687\n",
       "Kms_Driven    -0.254741"
      ]
     },
     "execution_count": 22,
     "metadata": {},
     "output_type": "execute_result"
    }
   ],
   "source": [
    "columns = ['CNG', 'Diesel', 'Petrol', 'Detaler', 'Individual', 'Automatic', 'Manual', 'Year', 'Present_Price', 'Kms_Driven']\n",
    "pd.DataFrame(model.coef_, index=columns)"
   ]
  },
  {
   "cell_type": "code",
   "execution_count": 23,
   "metadata": {},
   "outputs": [],
   "source": [
    "# from sklearn.svm import SVR\n",
    "# model = SVR()\n",
    "# model.fit(X_train, y_train)\n",
    "# y_pred = model.predict(X_test)\n",
    "# y_pred[:20]"
   ]
  },
  {
   "cell_type": "markdown",
   "metadata": {},
   "source": [
    "# Exercise"
   ]
  },
  {
   "cell_type": "markdown",
   "metadata": {},
   "source": [
    "## Recall matrix multiplication \n",
    "$$A^{2\\times 3} =\n",
    "\\begin{bmatrix}\n",
    "a_{11} & a_{12} & a_{13}\\\\\n",
    "a_{21} & a_{22} & a_{33}\\\\\n",
    "\\end{bmatrix}\n",
    ",\n",
    "B^{3\\times 2} =\n",
    "\\begin{bmatrix}\n",
    "b_{11} & b_{12}\\\\\n",
    "b_{21} & b_{22}\\\\\n",
    "b_{31} & b_{32}\n",
    "\\end{bmatrix}\n",
    "$$,\n",
    "$$C^{2\\times 2} = A\\cdot B =\n",
    "\\begin{bmatrix}\n",
    "c_{11} & c_{12}\\\\\n",
    "c_{21} & c_{22}\\\\\n",
    "\\end{bmatrix}\n",
    "$$\n",
    "where\n",
    "$$\n",
    "c_{11} = a_{11}b_{11} + a_{12}b_{21} + a_{13}b_{31},\n",
    "c_{12} = a_{11}b_{12} + a_{12}b_{22} + a_{13}b_{32},\\\\\n",
    "c_{21} = a_{21}b_{11} + a_{22}b_{21} + a_{23}b_{31},\n",
    "c_{22} = a_{21}b_{12} + a_{22}b_{22} + a_{23}b_{32}\\\\\n",
    "$$\n",
    "\n",
    "Exercise:\n",
    "Given $A =\n",
    "\\begin{bmatrix}\n",
    "1 & 2 & 3\\\\\n",
    "4 & 5 & 6\\\\\n",
    "\\end{bmatrix}\n",
    "$,\n",
    "$B =\n",
    "\\begin{bmatrix}\n",
    "1 & 4\\\\\n",
    "2 & 5\\\\\n",
    "3 & 6\\\\\n",
    "\\end{bmatrix}\n",
    "$,\n",
    "Calculate $C = A\\cdot B$"
   ]
  },
  {
   "cell_type": "code",
   "execution_count": 24,
   "metadata": {},
   "outputs": [
    {
     "name": "stdout",
     "output_type": "stream",
     "text": [
      "a.shape: (2, 3)\n",
      "b.shape: (3, 2)\n",
      "c.shape: (2, 2)\n",
      "[[14 32]\n",
      " [32 77]]\n"
     ]
    }
   ],
   "source": [
    "# Example of matrix multiplication with numpy\n",
    "import numpy as np\n",
    "a = np.array([[1, 2, 3],\n",
    "              [4, 5, 6]])\n",
    "b = np.array([[1, 4],\n",
    "              [2, 5],\n",
    "              [3, 6]])\n",
    "c = a.dot(b)\n",
    "print(\"a.shape:\", a.shape)\n",
    "print(\"b.shape:\", b.shape)\n",
    "print(\"c.shape:\", c.shape)\n",
    "print(c)"
   ]
  },
  {
   "cell_type": "markdown",
   "metadata": {},
   "source": [
    "## Boston Housing Data"
   ]
  },
  {
   "cell_type": "code",
   "execution_count": 25,
   "metadata": {},
   "outputs": [
    {
     "name": "stdout",
     "output_type": "stream",
     "text": [
      "X.shape:  (506, 13)\n",
      "y.shape:  (506,)\n",
      "Feature Names: ['CRIM' 'ZN' 'INDUS' 'CHAS' 'NOX' 'RM' 'AGE' 'DIS' 'RAD' 'TAX' 'PTRATIO'\n",
      " 'B' 'LSTAT']\n",
      ".. _boston_dataset:\n",
      "\n",
      "Boston house prices dataset\n",
      "---------------------------\n",
      "\n",
      "**Data Set Characteristics:**  \n",
      "\n",
      "    :Number of Instances: 506 \n",
      "\n",
      "    :Number of Attributes: 13 numeric/categorical predictive. Median Value (attribute 14) is usually the target.\n",
      "\n",
      "    :Attribute Information (in order):\n",
      "        - CRIM     per capita crime rate by town\n",
      "        - ZN       proportion of residential land zoned for lots over 25,000 sq.ft.\n",
      "        - INDUS    proportion of non-retail business acres per town\n",
      "        - CHAS     Charles River dummy variable (= 1 if tract bounds river; 0 otherwise)\n",
      "        - NOX      nitric oxides concentration (parts per 10 million)\n",
      "        - RM       average number of rooms per dwelling\n",
      "        - AGE      proportion of owner-occupied units built prior to 1940\n",
      "        - DIS      weighted distances to five Boston employment centres\n",
      "        - RAD      index of accessibility to radial highways\n",
      "        - TAX      full-value property-tax rate per $10,000\n",
      "        - PTRATIO  pupil-teacher ratio by town\n",
      "        - B        1000(Bk - 0.63)^2 where Bk is the proportion of blacks by town\n",
      "        - LSTAT    % lower status of the population\n",
      "        - MEDV     Median value of owner-occupied homes in $1000's\n",
      "\n",
      "    :Missing Attribute Values: None\n",
      "\n",
      "    :Creator: Harrison, D. and Rubinfeld, D.L.\n",
      "\n",
      "This is a copy of UCI ML housing dataset.\n",
      "https://archive.ics.uci.edu/ml/machine-learning-databases/housing/\n",
      "\n",
      "\n",
      "This dataset was taken from the StatLib library which is maintained at Carnegie Mellon University.\n",
      "\n",
      "The Boston house-price data of Harrison, D. and Rubinfeld, D.L. 'Hedonic\n",
      "prices and the demand for clean air', J. Environ. Economics & Management,\n",
      "vol.5, 81-102, 1978.   Used in Belsley, Kuh & Welsch, 'Regression diagnostics\n",
      "...', Wiley, 1980.   N.B. Various transformations are used in the table on\n",
      "pages 244-261 of the latter.\n",
      "\n",
      "The Boston house-price data has been used in many machine learning papers that address regression\n",
      "problems.   \n",
      "     \n",
      ".. topic:: References\n",
      "\n",
      "   - Belsley, Kuh & Welsch, 'Regression diagnostics: Identifying Influential Data and Sources of Collinearity', Wiley, 1980. 244-261.\n",
      "   - Quinlan,R. (1993). Combining Instance-Based and Model-Based Learning. In Proceedings on the Tenth International Conference of Machine Learning, 236-243, University of Massachusetts, Amherst. Morgan Kaufmann.\n",
      "\n"
     ]
    }
   ],
   "source": [
    "# Loading boston housing price data set. Each record in the database describes a Boston suburb or town. \n",
    "# There are 506 Records, each record in the database describes a Boston suburb or town. \n",
    "from sklearn.datasets import load_boston\n",
    "X, y = load_boston(return_X_y=True)\n",
    "print(\"X.shape: \", X.shape)\n",
    "print(\"y.shape: \", y.shape)\n",
    "\n",
    "from sklearn.datasets import load_boston\n",
    "data = load_boston()\n",
    "print(\"Feature Names:\" , data['feature_names'])\n",
    "print(data['DESCR'])"
   ]
  },
  {
   "cell_type": "code",
   "execution_count": null,
   "metadata": {},
   "outputs": [],
   "source": []
  },
  {
   "cell_type": "code",
   "execution_count": null,
   "metadata": {},
   "outputs": [],
   "source": []
  }
 ],
 "metadata": {
  "kernelspec": {
   "display_name": "Python 3",
   "language": "python",
   "name": "python3"
  },
  "language_info": {
   "codemirror_mode": {
    "name": "ipython",
    "version": 3
   },
   "file_extension": ".py",
   "mimetype": "text/x-python",
   "name": "python",
   "nbconvert_exporter": "python",
   "pygments_lexer": "ipython3",
   "version": "3.7.1"
  }
 },
 "nbformat": 4,
 "nbformat_minor": 2
}
